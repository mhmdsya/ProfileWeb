{
  "nbformat": 4,
  "nbformat_minor": 0,
  "metadata": {
    "colab": {
      "name": "HackerRank.ipynb",
      "provenance": [],
      "collapsed_sections": [],
      "authorship_tag": "ABX9TyNp2SsyTJreLw7Ul2NtnROw",
      "include_colab_link": true
    },
    "kernelspec": {
      "name": "python3",
      "display_name": "Python 3"
    }
  },
  "cells": [
    {
      "cell_type": "markdown",
      "metadata": {
        "id": "view-in-github",
        "colab_type": "text"
      },
      "source": [
        "<a href=\"https://colab.research.google.com/github/mhmdsya/ProfileWeb/blob/master/HackerRank.ipynb\" target=\"_parent\"><img src=\"https://colab.research.google.com/assets/colab-badge.svg\" alt=\"Open In Colab\"/></a>"
      ]
    },
    {
      "cell_type": "code",
      "metadata": {
        "id": "rE5cKf95y3M2"
      },
      "source": [
        "#Python If-Else\n",
        "n = int(input())\n",
        "\n",
        "if n%2!=0 :\n",
        "    print(\"Weird\")\n",
        "\n",
        "elif n%2==0 :\n",
        "    if n>=2 and n<=5 :\n",
        "      print(\"Not Weird\")\n",
        "    elif n>=6 and n<=20 :\n",
        "      print(\"Weird\")\n",
        "    elif n>20 :\n",
        "      print(\"Not Weird\")\n"
      ],
      "execution_count": null,
      "outputs": []
    },
    {
      "cell_type": "code",
      "metadata": {
        "id": "dohAdg-31swC"
      },
      "source": [
        "#Python Arithmatic-Opertaor\n",
        "a = int(input())\n",
        "b = int(input())\n",
        "\n",
        "print(a+b)\n",
        "print(a-b)\n",
        "print(a*b)"
      ],
      "execution_count": null,
      "outputs": []
    },
    {
      "cell_type": "code",
      "metadata": {
        "id": "hL7BMTB62giH"
      },
      "source": [
        "#Python Python-Division\n",
        "a = int(input())\n",
        "b = int(input())\n",
        "\n",
        "print(a//b)\n",
        "print(a/b)"
      ],
      "execution_count": null,
      "outputs": []
    },
    {
      "cell_type": "code",
      "metadata": {
        "id": "z27NGswE2_vr"
      },
      "source": [
        "#Python Loops\n",
        "a = int(input())\n",
        "\n"
      ],
      "execution_count": null,
      "outputs": []
    }
  ]
}